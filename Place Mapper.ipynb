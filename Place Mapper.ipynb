{
 "cells": [
  {
   "cell_type": "code",
   "execution_count": 11,
   "metadata": {},
   "outputs": [],
   "source": [
    "gmaps = googlemaps.Client(key='')"
   ]
  },
  {
   "cell_type": "code",
   "execution_count": 12,
   "metadata": {},
   "outputs": [
    {
     "data": {
      "text/plain": [
       "<[OK] Google - Geocode [1111 Church St, Pasadena, CA 91105, USA]>"
      ]
     },
     "execution_count": 12,
     "metadata": {},
     "output_type": "execute_result"
    }
   ],
   "source": [
    "geocoder.google('1111 Church St., Pasadena, Ca')"
   ]
  },
  {
   "cell_type": "markdown",
   "metadata": {},
   "source": [
    "Takes a CSV with two columns: name and address\n",
    "\n",
    "Returns a map of the points given"
   ]
  },
  {
   "cell_type": "code",
   "execution_count": null,
   "metadata": {},
   "outputs": [],
   "source": [
    "from geopandas import GeoDataFrame\n",
    "import pandas as pd \n",
    "import geocoder \n",
    "import googlemaps\n",
    "from shapely.geometry import Point\n",
    "from geojsonio import display\n",
    "\n",
    "class Place(object):\n",
    "    ## Uncomment and insert key\n",
    "    #gmaps = googlemaps.Client(key='')\n",
    "\n",
    "    def __init__(self, filename):\n",
    "        self.data = pd.read_csv(filename)\n",
    "\n",
    "    def calc_coords(self): \n",
    "        self.data['Latitude'] = self.data['Address'].apply(geocoder.google).apply(lambda x: x.lat)\n",
    "        self.data['Longitude'] = self.data['Address'].apply(geocoder.google).apply(lambda x: x.lng)\n",
    "        self.data['Coordinates'] = [Point(xy) for xy in zip(self.data.Longitude, self.data.Latitude)]\n",
    "\n",
    "    def get_geo(self):\n",
    "        return(list(self.data['Coordinates']))\n",
    "\n",
    "    def get_names(self):\n",
    "        return(self.data['Name'])\n",
    "\n",
    "    def get_gdf(self):\n",
    "        crs = {'init': 'epsg:4326'}\n",
    "        return GeoDataFrame(self.get_names(), crs=crs, geometry=self.get_geo())\n",
    "\n",
    "    def visualize(self):\n",
    "        self.data['Coordinates'] = [Point(xy) for xy in zip(self.data.Longitude, self.data.Latitude)]\n",
    "        updated = self.get_gdf()\n",
    "        print(updated.to_json())"
   ]
  },
  {
   "cell_type": "markdown",
   "metadata": {},
   "source": [
    "- The above function totally works, but you'll get frequent OVER_QUERY_LIMITS from Google if you don't have a paid account\n",
    "- Or you could get the Latitudes and Longitudes with a server-side parser "
   ]
  },
  {
   "cell_type": "code",
   "execution_count": null,
   "metadata": {},
   "outputs": [],
   "source": [
    "# Therefore I wouldn't wonder if you would be required to do\n",
    "from time import sleep\n",
    "x = pd.read_csv((''))\n",
    "for i in x['Address']:\n",
    "    i = geocoder.google(i)\n",
    "    sleep(10)"
   ]
  }
 ],
 "metadata": {
  "kernelspec": {
   "display_name": "Python 3",
   "language": "python",
   "name": "python3"
  },
  "language_info": {
   "codemirror_mode": {
    "name": "ipython",
    "version": 3
   },
   "file_extension": ".py",
   "mimetype": "text/x-python",
   "name": "python",
   "nbconvert_exporter": "python",
   "pygments_lexer": "ipython3",
   "version": "3.5.4"
  }
 },
 "nbformat": 4,
 "nbformat_minor": 2
}
